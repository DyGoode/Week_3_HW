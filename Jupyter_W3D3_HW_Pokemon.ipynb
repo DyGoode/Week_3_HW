{
 "cells": [
  {
   "cell_type": "code",
   "execution_count": 1,
   "id": "326db3d1",
   "metadata": {},
   "outputs": [],
   "source": [
    "from time import sleep\n",
    "import requests\n",
    "from IPython.display import Image\n",
    "\n",
    "class Move_Tutor:\n",
    "    \n",
    "    def __init__(self):\n",
    "        self.possible_moves = []\n",
    "        self.known_moves = []\n",
    "       # self.poke_api_calls()\n",
    "        \n",
    "    def get_move(self):\n",
    "        print(f\" hello {self.name}\")\n",
    "        r = requests.get(f\"https://pokeapi.co/api/v2/pokemon/{self.name.lower()}\")\n",
    "        if r.status_code == 200:\n",
    "            pokemon = r.json()\n",
    "        else:\n",
    "            print(f\"Please check pokemon name spelling and try again: {r.status_code}\")\n",
    "            return\n",
    "        \n",
    "        self.possible_moves = [pokemon[\"move\"][\"name\"] for pokemon in pokemon[\"moves\"]]\n",
    "        print(f\"{self.possible_moves}\")\n",
    "        \n",
    "    def teach_move(self):\n",
    "        new_move = input(\"What move do you want your Pokemon to learn? \")\n",
    "        if new_move in self.known_moves:\n",
    "            print(f\"{self.name.title()} already knows that move!\")\n",
    "            pass\n",
    "        else:\n",
    "            print(f\"blah blah\")\n",
    "            if new_move in self.possible_moves:\n",
    "                print(\"..........\")\n",
    "                sleep(1)\n",
    "                print(f\"Your {self.name.title()} is training really hard!\")\n",
    "                print(\"..........\")\n",
    "                sleep(1)\n",
    "                print(f\"{self.name.title()} is putting in WORK!\")\n",
    "                print(\"..........\")\n",
    "                sleep(1)\n",
    "                self.known_moves.append(new_move)\n",
    "                print(\"..........\")\n",
    "                sleep(1)\n",
    "                print(f\"{self.name.title()} just learned how to: {new_move} !\")\n",
    "                  \n",
    "    def show_moves(self):\n",
    "        print(f\"Your {self.name} now knows the following moves: {self.known_moves}\")\n"
   ]
  },
  {
   "cell_type": "code",
   "execution_count": 2,
   "id": "7b7c5b5f",
   "metadata": {},
   "outputs": [],
   "source": [
    "class Pokemon(Move_Tutor):\n",
    "    def __init__(self, name):\n",
    "        Move_Tutor.__init__(self)\n",
    "        #super().__init__\n",
    "        self.name = name\n",
    "        self.types = []\n",
    "        self.abilities = []\n",
    "        self.weight = None\n",
    "        self.poke_api_call()\n",
    "        \n",
    "    def poke_api_call(self):\n",
    "        r = requests.get(f\"https://pokeapi.co/api/v2/pokemon/{self.name.lower()}\")\n",
    "        if r.status_code == 200:\n",
    "            pokemon = r.json()\n",
    "        else:\n",
    "            print(f\"Please check pokemon name spelling and try again: {r.status_code}\")\n",
    "            return\n",
    "        \n",
    "        self.name = pokemon[\"name\"]\n",
    "        self.types = [pokemon[\"type\"][\"name\"] for pokemon in pokemon[\"types\"]]\n",
    "        self.abilities = [pokemon[\"ability\"][\"name\"] for pokemon in pokemon[\"abilities\"]]\n",
    "        self.weight = pokemon[\"weight\"]\n",
    "        print(f\"{self.name}'s data has been updated! \")\n",
    "        \n",
    "    def __repr__(self):\n",
    "        return f\"You caught a {self.name}!!\""
   ]
  },
  {
   "cell_type": "code",
   "execution_count": 3,
   "id": "15a43101",
   "metadata": {
    "scrolled": true
   },
   "outputs": [
    {
     "name": "stdout",
     "output_type": "stream",
     "text": [
      "charmander's data has been updated! \n",
      " hello charmander\n",
      "['mega-punch', 'fire-punch', 'thunder-punch', 'scratch', 'swords-dance', 'cut', 'wing-attack', 'mega-kick', 'headbutt', 'body-slam', 'take-down', 'double-edge', 'leer', 'bite', 'growl', 'ember', 'flamethrower', 'submission', 'counter', 'seismic-toss', 'strength', 'dragon-rage', 'fire-spin', 'dig', 'toxic', 'rage', 'mimic', 'double-team', 'smokescreen', 'defense-curl', 'reflect', 'bide', 'fire-blast', 'swift', 'skull-bash', 'fury-swipes', 'rest', 'rock-slide', 'slash', 'substitute', 'snore', 'curse', 'protect', 'scary-face', 'belly-drum', 'mud-slap', 'outrage', 'endure', 'false-swipe', 'swagger', 'fury-cutter', 'attract', 'sleep-talk', 'return', 'frustration', 'dynamic-punch', 'dragon-breath', 'iron-tail', 'metal-claw', 'hidden-power', 'sunny-day', 'crunch', 'ancient-power', 'rock-smash', 'beat-up', 'heat-wave', 'will-o-wisp', 'facade', 'focus-punch', 'helping-hand', 'brick-break', 'secret-power', 'weather-ball', 'air-cutter', 'overheat', 'rock-tomb', 'aerial-ace', 'dragon-claw', 'dragon-dance', 'natural-gift', 'fling', 'flare-blitz', 'dragon-pulse', 'dragon-rush', 'shadow-claw', 'fire-fang', 'captivate', 'hone-claws', 'flame-burst', 'flame-charge', 'round', 'echoed-voice', 'incinerate', 'acrobatics', 'inferno', 'fire-pledge', 'dragon-tail', 'work-up', 'confide', 'power-up-punch']\n",
      "What move do you want your Pokemon to learn? snore\n",
      "blah blah\n",
      "..........\n",
      "Your Charmander is training really hard!\n",
      "..........\n",
      "Charmander is putting in WORK!\n",
      "..........\n",
      "..........\n",
      "Charmander just learned how to: snore !\n"
     ]
    }
   ],
   "source": [
    "charmander = Pokemon(\"charmander\")\n",
    "\n",
    "charmander.get_move()\n",
    "\n",
    "charmander.teach_move()"
   ]
  },
  {
   "cell_type": "code",
   "execution_count": null,
   "id": "bfe7d35f",
   "metadata": {},
   "outputs": [],
   "source": []
  }
 ],
 "metadata": {
  "kernelspec": {
   "display_name": "Python 3 (ipykernel)",
   "language": "python",
   "name": "python3"
  },
  "language_info": {
   "codemirror_mode": {
    "name": "ipython",
    "version": 3
   },
   "file_extension": ".py",
   "mimetype": "text/x-python",
   "name": "python",
   "nbconvert_exporter": "python",
   "pygments_lexer": "ipython3",
   "version": "3.10.7"
  }
 },
 "nbformat": 4,
 "nbformat_minor": 5
}
